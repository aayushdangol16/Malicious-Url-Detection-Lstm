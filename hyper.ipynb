{
 "cells": [
  {
   "cell_type": "code",
   "execution_count": 1,
   "metadata": {},
   "outputs": [],
   "source": [
    "import pandas as pd\n",
    "import matplotlib.pyplot as plt\n",
    "import string\n",
    "from collections import Counter\n",
    "import numpy as np\n",
    "import torch\n",
    "from torch.utils.data import TensorDataset, DataLoader\n",
    "import torch.nn as nn\n",
    "import torch.nn.functional as F\n",
    "from torch import optim\n",
    "import optuna"
   ]
  },
  {
   "cell_type": "code",
   "execution_count": 2,
   "metadata": {},
   "outputs": [
    {
     "data": {
      "image/png": "[encoded data removed]",
      "text/plain": [
       "<Figure size 640x480 with 1 Axes>"
      ]
     },
     "metadata": {},
     "output_type": "display_data"
    }
   ],
   "source": [
    "df=pd.read_csv('dataset.csv')\n",
    "df.dropna(inplace=True)\n",
    "type_counts=df['type'].value_counts()\n",
    "type_counts.plot(kind='bar',rot=0,color='green')\n",
    "plt.xlabel('type')\n",
    "plt.ylabel('count')\n",
    "plt.show()"
   ]
  },
  {
   "cell_type": "code",
   "execution_count": 3,
   "metadata": {},
   "outputs": [],
   "source": [
    "url=list(df['url'])\n",
    "Type=list(df['type'])"
   ]
  },
  {
   "cell_type": "code",
   "execution_count": 4,
   "metadata": {},
   "outputs": [],
   "source": [
    "labels=np.array(Type)"
   ]
  },
  {
   "cell_type": "code",
   "execution_count": 5,
   "metadata": {},
   "outputs": [],
   "source": [
    "def add_spaces_around_punctuation(input_list):\n",
    "    translation_table = str.maketrans({key: f' {key} ' for key in string.punctuation})\n",
    "    result_list = [s.translate(translation_table) for s in input_list]\n",
    "    result_list = [s.split() for s in result_list]\n",
    "\n",
    "    return result_list\n",
    "\n",
    "output_list = add_spaces_around_punctuation(url)\n",
    "\n",
    "\n",
    "output_string = ' '.join([' '.join(words) for words in output_list])\n",
    "\n",
    "\n",
    "output_string = output_string.replace('[', '').replace(']', '')"
   ]
  },
  {
   "cell_type": "code",
   "execution_count": 6,
   "metadata": {},
   "outputs": [],
   "source": [
    "alist=output_string.split(\" \")"
   ]
  },
  {
   "cell_type": "code",
   "execution_count": 7,
   "metadata": {},
   "outputs": [],
   "source": [
    "counts = Counter(alist)"
   ]
  },
  {
   "cell_type": "code",
   "execution_count": 8,
   "metadata": {},
   "outputs": [],
   "source": [
    "vocab = sorted(counts, key=counts.get, reverse=True)\n",
    "vocab_to_int = {word: ii for ii, word in enumerate(vocab, 1)}"
   ]
  },
  {
   "cell_type": "code",
   "execution_count": 9,
   "metadata": {},
   "outputs": [],
   "source": [
    "reviews_ints = []\n",
    "for review in output_list:\n",
    "    reviews_ints.append([vocab_to_int.get(word, 0) for word in review])"
   ]
  },
  {
   "cell_type": "code",
   "execution_count": 10,
   "metadata": {},
   "outputs": [
    {
     "name": "stdout",
     "output_type": "stream",
     "text": [
      "364\n",
      "1\n"
     ]
    }
   ],
   "source": [
    "lengths = [len(sublist) for sublist in reviews_ints]\n",
    "\n",
    "max_length = max(lengths)\n",
    "min_length=min(lengths)\n",
    "print(max_length)\n",
    "print(min_length)"
   ]
  },
  {
   "cell_type": "code",
   "execution_count": 11,
   "metadata": {},
   "outputs": [],
   "source": [
    "def pad_features(reviews_ints, seq_length):\n",
    "\n",
    "\n",
    "    # getting the correct rows x cols shape\n",
    "    features = np.zeros((len(reviews_ints), seq_length), dtype=int)\n",
    "\n",
    "    # for each review, I grab that review and\n",
    "    for i, row in enumerate(reviews_ints):\n",
    "        features[i, -len(row):] = np.array(row)[:seq_length]\n",
    "\n",
    "    return features"
   ]
  },
  {
   "cell_type": "code",
   "execution_count": 12,
   "metadata": {},
   "outputs": [
    {
     "name": "stdout",
     "output_type": "stream",
     "text": [
      "[  0   0   0   0   0   0   0   0   0   0   0   0   0   0   0   0   0   0\n",
      "   0   0   0   0   0   0   0   0   0   0   0   0   0   0   0   0   0   0\n",
      "   0   0   0   0   0   0   0   0   0   0   0   0   0   0   0   0   0   0\n",
      "   0   0   0   0   0   0   0   0   0   0   0   0   0   0   0   0   0   0\n",
      "   0   0   0   0   0   0   0   0   0   0   0   0   0   0   0   0   0   0\n",
      "   0   0   0   0   0   0   0   0   0   0   0   0   0   0   0   0   0   0\n",
      "   0   0   0   0   0   0   0   0   0   0   0   0   0   0   0   0   0   0\n",
      "   0   0   0   0   0   0   0   0   0   0   0   0   0   0   0   0   0   0\n",
      "   0   0   0   0   0   0   0   0   0   0   0   0   0   0   0   0   0   0\n",
      "   0   0   0   0   0   0   0   0   0   0   0   0   0   0   0   0   0   0\n",
      "   0   0   0   0   0   0   0   0   0   0   0   0   0   0   0   0   0   0\n",
      "   0   0   0   0   0   0   0   0   0   0   0   0   0   0   0   0   0   0\n",
      "   0   0   0   0   0   0   0   0   0   0   0   0   0   0   0   0   0   0\n",
      "   0   0   0   0   0   0   0   0   0   0   0   0   0   0   0   0   0   0\n",
      "   0   0   0   0   0   0   0   0   0   0   0   0   0   0   0   0   0   0\n",
      "   0   0   0   0   0   0   0   0   0   0   0   0   0   0   0   0   0   0\n",
      "   0   0   0   0   0   0   0   0   0   0   0   0   0   0   0   0   0   0\n",
      "   0   0   0   0   0   0   0   0   0   0   0   0   0   0   0   0   0   0\n",
      "   0   0   0   0   0   0   0   0   0   0   0   0   0   0   0   0   0   0\n",
      "   0   0   0   0   0   0   0   0   0   0   0   0   8   4   1   1   6   2\n",
      " 140   2   5   1]\n"
     ]
    }
   ],
   "source": [
    "seq_length = 364\n",
    "features = pad_features(reviews_ints, seq_length=seq_length)\n",
    "assert len(features)==len(reviews_ints), \"Your features should have as many rows as reviews.\"\n",
    "assert len(features[0])==seq_length, \"Each feature row should contain seq_length values.\"\n",
    "print(features[0])"
   ]
  },
  {
   "cell_type": "code",
   "execution_count": 13,
   "metadata": {},
   "outputs": [
    {
     "name": "stdout",
     "output_type": "stream",
     "text": [
      "\t\t\tFeature Shapes:\n",
      "Train set: \t\t(700900, 364) \n",
      "Validation set: \t(17500, 364) \n",
      "Test set: \t\t(157700, 364)\n"
     ]
    }
   ],
   "source": [
    "split_frac = 0.8\n",
    "split_idx = int(len(features)*split_frac)\n",
    "train_x, remaining_x = features[:split_idx], features[split_idx:]\n",
    "train_y, remaining_y = labels[:split_idx], labels[split_idx:]\n",
    "\n",
    "test_idx = int(len(remaining_x)*0.1)\n",
    "val_x, test_x = remaining_x[:test_idx], remaining_x[test_idx:]\n",
    "val_y, test_y = remaining_y[:test_idx], remaining_y[test_idx:]\n",
    "\n",
    "train_x=train_x[:-85]\n",
    "train_y=train_y[:-85]\n",
    "val_x=val_x[:-24]\n",
    "val_y=val_y[:-24]\n",
    "test_x=test_x[:-23]\n",
    "test_y=test_y[:-23]\n",
    "\n",
    "\n",
    "print(\"\\t\\t\\tFeature Shapes:\")\n",
    "print(\"Train set: \\t\\t{}\".format(train_x.shape),\n",
    "      \"\\nValidation set: \\t{}\".format(val_x.shape),\n",
    "      \"\\nTest set: \\t\\t{}\".format(test_x.shape))"
   ]
  },
  {
   "cell_type": "code",
   "execution_count": 14,
   "metadata": {},
   "outputs": [],
   "source": [
    "train_data = TensorDataset(torch.from_numpy(train_x), torch.from_numpy(train_y))\n",
    "valid_data = TensorDataset(torch.from_numpy(val_x), torch.from_numpy(val_y))\n",
    "test_data = TensorDataset(torch.from_numpy(test_x), torch.from_numpy(test_y))\n",
    "\n",
    "batch_size=100\n",
    "train_loader = DataLoader(train_data, shuffle=True, batch_size=batch_size)\n",
    "valid_loader = DataLoader(valid_data, shuffle=True, batch_size=batch_size)\n",
    "test_loader = DataLoader(test_data, shuffle=True, batch_size=batch_size)"
   ]
  },
  {
   "cell_type": "code",
   "execution_count": 15,
   "metadata": {},
   "outputs": [
    {
     "name": "stdout",
     "output_type": "stream",
     "text": [
      "Training on GPU.\n"
     ]
    }
   ],
   "source": [
    "train_on_gpu=torch.cuda.is_available()\n",
    "\n",
    "if(train_on_gpu):\n",
    "    print('Training on GPU.')\n",
    "else:\n",
    "    print('No GPU available, training on CPU.')"
   ]
  },
  {
   "cell_type": "code",
   "execution_count": 16,
   "metadata": {},
   "outputs": [],
   "source": [
    "class malicious(nn.Module):\n",
    "  def __init__(self,vocab_size,output_size,embedding_dim,hidden_dim,n_layers,drop_prob=0.5):\n",
    "    super(malicious,self).__init__()\n",
    "    self.output_size=output_size\n",
    "    self.n_layers=n_layers\n",
    "    self.hidden_dim=hidden_dim\n",
    "    self.embedding=nn.Embedding(vocab_size,embedding_dim)\n",
    "    self.lstm=nn.LSTM(embedding_dim,hidden_dim,n_layers,dropout=drop_prob,batch_first=True)\n",
    "    self.dropout = nn.Dropout(0.3)\n",
    "    self.fc=nn.Linear(hidden_dim,output_size)\n",
    "\n",
    "  def forward(self,x,hidden):\n",
    "    batch_size=x.size(0)\n",
    "    x=x.long()\n",
    "    embeds=self.embedding(x)\n",
    "    lstm_out,hidden=self.lstm(embeds,hidden)\n",
    "    lstm_out=lstm_out[:, -1, :] # getting the last time step output\n",
    "    output=self.dropout(lstm_out)\n",
    "    output=F.sigmoid(self.fc(output))\n",
    "    return output,hidden\n",
    "\n",
    "  def init_hidden(self, batch_size):\n",
    "    weight = next(self.parameters()).data\n",
    "    if (train_on_gpu):\n",
    "            hidden = (weight.new(self.n_layers, batch_size, self.hidden_dim).zero_().cuda(),\n",
    "                  weight.new(self.n_layers, batch_size, self.hidden_dim).zero_().cuda())\n",
    "    else:\n",
    "            hidden = (weight.new(self.n_layers, batch_size, self.hidden_dim).zero_(),\n",
    "                      weight.new(self.n_layers, batch_size, self.hidden_dim).zero_())\n",
    "\n",
    "    return hidden"
   ]
  },
  {
   "cell_type": "code",
   "execution_count": 17,
   "metadata": {},
   "outputs": [
    {
     "name": "stdout",
     "output_type": "stream",
     "text": [
      "malicious(\n",
      "  (embedding): Embedding(650291, 400)\n",
      "  (lstm): LSTM(400, 256, num_layers=2, batch_first=True, dropout=0.5)\n",
      "  (dropout): Dropout(p=0.3, inplace=False)\n",
      "  (fc): Linear(in_features=256, out_features=1, bias=True)\n",
      ")\n"
     ]
    }
   ],
   "source": [
    "vocab_size=len(vocab_to_int)+1 # +1 for the 0 padding + our word tokens\n",
    "output_size=1\n",
    "embedding_dim=400\n",
    "hidden_dim=256\n",
    "n_layers=2\n",
    "\n",
    "model=malicious(vocab_size, output_size, embedding_dim, hidden_dim, n_layers)\n",
    "\n",
    "print(model)"
   ]
  },
  {
   "cell_type": "code",
   "execution_count": 18,
   "metadata": {},
   "outputs": [],
   "source": [
    "criterion=nn.BCELoss()\n",
    "optimizer=optim.Adam(model.parameters(),lr=0.001)"
   ]
  },
  {
   "cell_type": "code",
   "execution_count": 19,
   "metadata": {},
   "outputs": [
    {
     "name": "stderr",
     "output_type": "stream",
     "text": [
      "[I 2024-02-12 20:46:45,395] A new study created in memory with name: no-name-69efc41e-a6df-437c-9a35-697ea43c105a\n",
      "[I 2024-02-12 22:05:17,342] Trial 0 finished with value: 0.07219779255234503 and parameters: {'embedding_dim': 453, 'hidden_dim': 212, 'n_layers': 3, 'drop_prob': 0.22667268160734158}. Best is trial 0 with value: 0.07219779255234503.\n",
      "c:\\Users\\Ryzen\\AppData\\Local\\Programs\\Python\\Python312\\Lib\\site-packages\\torch\\nn\\modules\\rnn.py:83: UserWarning: dropout option adds dropout after all but last recurrent layer, so non-zero dropout expects num_layers greater than 1, but got dropout=0.22714807894987155 and num_layers=1\n",
      "  warnings.warn(\"dropout option adds dropout after all but last \"\n",
      "[I 2024-02-12 22:49:23,515] Trial 1 finished with value: 0.06146158152027056 and parameters: {'embedding_dim': 325, 'hidden_dim': 238, 'n_layers': 1, 'drop_prob': 0.22714807894987155}. Best is trial 1 with value: 0.06146158152027056.\n"
     ]
    },
    {
     "name": "stdout",
     "output_type": "stream",
     "text": [
      "Number of finished trials:  2\n",
      "Best trial:\n",
      "  Value:  0.06146158152027056\n",
      "  Params: \n",
      "    embedding_dim: 325\n",
      "    hidden_dim: 238\n",
      "    n_layers: 1\n",
      "    drop_prob: 0.22714807894987155\n"
     ]
    }
   ],
   "source": [
    "def objective(trial):\n",
    "    # Define the search space for hyperparameters\n",
    "    embedding_dim = trial.suggest_int('embedding_dim', 300, 500)\n",
    "    hidden_dim = trial.suggest_int('hidden_dim', 200, 400)\n",
    "    n_layers=trial.suggest_int('n_layers',1,3)\n",
    "    drop_prob = trial.suggest_float('drop_prob', 0.1, 0.5)\n",
    "\n",
    "    # Build the model with suggested hyperparameters\n",
    "    model = malicious(vocab_size, output_size, embedding_dim, hidden_dim, n_layers, drop_prob)\n",
    "\n",
    "    # Define optimizer and criterion\n",
    "    optimizer = optim.Adam(model.parameters(), lr=0.001)\n",
    "    criterion = nn.BCELoss()\n",
    "\n",
    "    if(train_on_gpu):\n",
    "        model.cuda()\n",
    "\n",
    "    # Training loop\n",
    "    epochs=4\n",
    "    counter=0\n",
    "    clip=5\n",
    "    for e in range(epochs):\n",
    "        model.train()\n",
    "        h = model.init_hidden(batch_size)\n",
    "        for Features, Labels in train_loader:\n",
    "            counter += 1\n",
    "            if(train_on_gpu):\n",
    "                Features, Labels = Features.cuda(), Labels.cuda()\n",
    "            h = tuple([each.data for each in h])\n",
    "            model.zero_grad()\n",
    "            output, h = model(Features, h)\n",
    "            loss = criterion(output.squeeze(), Labels.float())\n",
    "            loss.backward()\n",
    "            nn.utils.clip_grad_norm_(model.parameters(), clip)\n",
    "            optimizer.step()\n",
    "\n",
    "    # Validation loop\n",
    "    val_losses = []\n",
    "    model.eval()\n",
    "    for Features, Labels in valid_loader:\n",
    "        val_h = model.init_hidden(batch_size)\n",
    "        val_h = tuple([each.data for each in val_h])\n",
    "        if(train_on_gpu):\n",
    "            Features, Labels = Features.cuda(), Labels.cuda()\n",
    "        output, val_h = model(Features, val_h)\n",
    "        val_loss = criterion(output.squeeze(), Labels.float())\n",
    "        val_losses.append(val_loss.item())\n",
    "\n",
    "    return np.mean(val_losses)\n",
    "\n",
    "study = optuna.create_study(direction='minimize')\n",
    "study.optimize(objective, n_trials=2)  \n",
    "\n",
    "print(\"Number of finished trials: \", len(study.trials))\n",
    "print(\"Best trial:\")\n",
    "trial = study.best_trial\n",
    "print(\"  Value: \", trial.value)\n",
    "print(\"  Params: \")\n",
    "for key, value in trial.params.items():\n",
    "    print(\"    {}: {}\".format(key, value))\n"
   ]
  }
 ],
 "metadata": {
  "kernelspec": {
   "display_name": "Python 3",
   "language": "python",
   "name": "python3"
  },
  "language_info": {
   "codemirror_mode": {
    "name": "ipython",
    "version": 3
   },
   "file_extension": ".py",
   "mimetype": "text/x-python",
   "name": "python",
   "nbconvert_exporter": "python",
   "pygments_lexer": "ipython3",
   "version": "3.12.1"
  }
 },
 "nbformat": 4,
 "nbformat_minor": 2
}

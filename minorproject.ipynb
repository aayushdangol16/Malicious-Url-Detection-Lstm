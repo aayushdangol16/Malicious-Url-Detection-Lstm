{
  "cells": [
    {
      "cell_type": "markdown",
      "metadata": {
        "id": "view-in-github",
        "colab_type": "text"
      },
      "source": [
        "<a href=\"https://colab.research.google.com/github/aayushdangol16/Malicious-Url-Detection-Lstm/blob/main/minorproject.ipynb\" target=\"_parent\"><img src=\"https://colab.research.google.com/assets/colab-badge.svg\" alt=\"Open In Colab\"/></a>"
      ]
    },
    {
      "cell_type": "markdown",
      "metadata": {
        "id": "a_Qb1awEKy-3"
      },
      "source": [
        "# Malicious Url Detection-Lstm"
      ]
    },
    {
      "cell_type": "code",
      "execution_count": 1,
      "metadata": {
        "id": "-oeU6Kx907Ps",
        "colab": {
          "base_uri": "https://localhost:8080/"
        },
        "outputId": "549b517d-6f68-46e4-c710-426d41c87e92"
      },
      "outputs": [
        {
          "output_type": "stream",
          "name": "stdout",
          "text": [
            "Mounted at /content/drive\n"
          ]
        }
      ],
      "source": [
        "from google.colab import drive\n",
        "drive.mount('/content/drive')"
      ]
    },
    {
      "cell_type": "markdown",
      "metadata": {
        "id": "pQkEc_vJK8KR"
      },
      "source": [
        "## Data-Preprocessing"
      ]
    },
    {
      "cell_type": "code",
      "execution_count": 2,
      "metadata": {
        "id": "gJ00uqu61F3-"
      },
      "outputs": [],
      "source": [
        "import pandas as pd\n",
        "import matplotlib.pyplot as plt\n",
        "import string\n",
        "from collections import Counter\n",
        "import numpy as np\n",
        "import torch\n",
        "from torch.utils.data import TensorDataset, DataLoader\n",
        "import torch.nn as nn\n",
        "import torch.nn.functional as F\n",
        "from torch import optim"
      ]
    },
    {
      "cell_type": "code",
      "execution_count": 3,
      "metadata": {
        "id": "zytiFXN31ThX",
        "colab": {
          "base_uri": "https://localhost:8080/",
          "height": 449
        },
        "outputId": "e2bf6fc6-0ea6-4eb7-aa4e-ad9a4345023e"
      },
      "outputs": [
        {
          "output_type": "display_data",
          "data": {
            "text/plain": [
              "<Figure size 640x480 with 1 Axes>"
            ],
            "image/png": "[encoded data removed]"
          },
          "metadata": {}
        }
      ],
      "source": [
        "df=pd.read_csv('/content/drive/MyDrive/dataset.csv')\n",
        "df.dropna(inplace=True)\n",
        "type_counts=df['type'].value_counts()\n",
        "type_counts.plot(kind='bar',rot=0,color='green')\n",
        "plt.xlabel('type')\n",
        "plt.ylabel('count')\n",
        "plt.show()"
      ]
    },
    {
      "cell_type": "code",
      "source": [
        "benign_entries = df[df['type'] == 0]\n",
        "malicious_entries = df[df['type'] == 1]"
      ],
      "metadata": {
        "id": "oM1bhfeF79QH"
      },
      "execution_count": null,
      "outputs": []
    },
    {
      "cell_type": "code",
      "execution_count": null,
      "metadata": {
        "id": "72sD2bK64lKe"
      },
      "outputs": [],
      "source": [
        "benign_entries = benign_entries.sample(n=len(malicious_entries), random_state=42)\n",
        "df= pd.concat([benign_entries, malicious_entries])\n",
        "df=df.sample(frac=1, random_state=42)\n",
        "type_counts=df['type'].value_counts()\n",
        "type_counts.plot(kind='bar',rot=0,color='green')\n",
        "plt.xlabel('type')\n",
        "plt.xlabel('count')\n",
        "plt.show()"
      ]
    },
    {
      "cell_type": "code",
      "source": [
        "df.to_csv('/content/drive/MyDrive/labelData.csv', index=False)"
      ],
      "metadata": {
        "id": "Nb5K-ceV8_FC"
      },
      "execution_count": null,
      "outputs": []
    },
    {
      "cell_type": "code",
      "source": [
        "df=pd.read_csv('/content/drive/MyDrive/labelData.csv')"
      ],
      "metadata": {
        "id": "rjEXbKoVV9MC"
      },
      "execution_count": null,
      "outputs": []
    },
    {
      "cell_type": "code",
      "execution_count": null,
      "metadata": {
        "colab": {
          "base_uri": "https://localhost:8080/"
        },
        "id": "C2oxZiOOMG_l",
        "outputId": "384a8960-5741-46be-bbd9-d1bcec1edd17"
      },
      "outputs": [
        {
          "output_type": "execute_result",
          "data": {
            "text/plain": [
              "0                                    https://www.google.com\n",
              "1                                   https://www.youtube.com\n",
              "2                                  https://www.facebook.com\n",
              "3                                     https://www.baidu.com\n",
              "4                                 https://www.wikipedia.org\n",
              "                                ...                        \n",
              "876227             http://digilander.libero.it/riccardog67/\n",
              "876228                    https://pastebin.com/raw/Earh9hGr\n",
              "876229      jacksonville.craigslist.org/fuo/2706610364.html\n",
              "876230    http://torrentdn.com/bbs/s.php?bo_table=torren...\n",
              "876231                pipl.com/directory/name/Heroux/Heroux\n",
              "Name: url, Length: 876232, dtype: object"
            ]
          },
          "metadata": {},
          "execution_count": 5
        }
      ],
      "source": [
        "df['url']"
      ]
    },
    {
      "cell_type": "code",
      "execution_count": null,
      "metadata": {
        "colab": {
          "base_uri": "https://localhost:8080/"
        },
        "id": "-aWuikYtMbOo",
        "outputId": "c3b81a08-b1da-45d0-9a80-72673b1bff7f"
      },
      "outputs": [
        {
          "output_type": "execute_result",
          "data": {
            "text/plain": [
              "0         0\n",
              "1         0\n",
              "2         0\n",
              "3         0\n",
              "4         0\n",
              "         ..\n",
              "876227    1\n",
              "876228    1\n",
              "876229    0\n",
              "876230    0\n",
              "876231    0\n",
              "Name: type, Length: 876232, dtype: int64"
            ]
          },
          "metadata": {},
          "execution_count": 6
        }
      ],
      "source": [
        "df['type']"
      ]
    },
    {
      "cell_type": "markdown",
      "source": [
        "### Tokenization"
      ],
      "metadata": {
        "id": "wEc_lhnMXws8"
      }
    },
    {
      "cell_type": "code",
      "source": [
        "url=list(df['url'])\n",
        "Type=list(df['type'])"
      ],
      "metadata": {
        "id": "XYNDlGCvX1-m"
      },
      "execution_count": 4,
      "outputs": []
    },
    {
      "cell_type": "code",
      "source": [
        "labels=np.array(Type)"
      ],
      "metadata": {
        "id": "YSeqPrQQVPai"
      },
      "execution_count": 5,
      "outputs": []
    },
    {
      "cell_type": "code",
      "source": [
        "def add_spaces_around_punctuation(input_list):\n",
        "    translation_table = str.maketrans({key: f' {key} ' for key in string.punctuation})\n",
        "    result_list = [s.translate(translation_table) for s in input_list]\n",
        "    result_list = [s.split() for s in result_list]\n",
        "\n",
        "    return result_list\n",
        "\n",
        "output_list = add_spaces_around_punctuation(url)\n",
        "\n",
        "\n",
        "output_string = ' '.join([' '.join(words) for words in output_list])\n",
        "\n",
        "\n",
        "output_string = output_string.replace('[', '').replace(']', '')\n",
        "#print(output_list)\n",
        "\n",
        "#print(output_string)\n"
      ],
      "metadata": {
        "id": "3-8SdaPsi_c6"
      },
      "execution_count": 6,
      "outputs": []
    },
    {
      "cell_type": "code",
      "source": [
        "print(output_list[:40])"
      ],
      "metadata": {
        "id": "UeQclFK-0yfb"
      },
      "execution_count": null,
      "outputs": []
    },
    {
      "cell_type": "code",
      "source": [
        "print(output_string[:100])"
      ],
      "metadata": {
        "id": "dbI9J58403YA"
      },
      "execution_count": null,
      "outputs": []
    },
    {
      "cell_type": "code",
      "source": [
        "alist=output_string.split(\" \")"
      ],
      "metadata": {
        "id": "S5j8C2UWnhKA"
      },
      "execution_count": 7,
      "outputs": []
    },
    {
      "cell_type": "code",
      "source": [
        "alist[:40]"
      ],
      "metadata": {
        "id": "6D1FPzJCwHBF"
      },
      "execution_count": null,
      "outputs": []
    },
    {
      "cell_type": "code",
      "source": [
        "counts = Counter(alist)"
      ],
      "metadata": {
        "id": "qFpLf3TUn3uj"
      },
      "execution_count": 8,
      "outputs": []
    },
    {
      "cell_type": "code",
      "source": [
        "counts"
      ],
      "metadata": {
        "id": "yL415c7OwK5R"
      },
      "execution_count": null,
      "outputs": []
    },
    {
      "cell_type": "code",
      "source": [
        "vocab = sorted(counts, key=counts.get, reverse=True)\n",
        "vocab_to_int = {word: ii for ii, word in enumerate(vocab, 1)}"
      ],
      "metadata": {
        "id": "XkT5godIwXau"
      },
      "execution_count": 9,
      "outputs": []
    },
    {
      "cell_type": "code",
      "source": [
        "vocab_to_int"
      ],
      "metadata": {
        "id": "jRuk4cJvwYfy"
      },
      "execution_count": null,
      "outputs": []
    },
    {
      "cell_type": "code",
      "source": [
        "reviews_ints = []\n",
        "for review in output_list:\n",
        "    reviews_ints.append([vocab_to_int.get(word, 0) for word in review])"
      ],
      "metadata": {
        "id": "EXHfJa2IqrJI"
      },
      "execution_count": 10,
      "outputs": []
    },
    {
      "cell_type": "code",
      "source": [
        "reviews_ints[:3]"
      ],
      "metadata": {
        "id": "m_ujeF04rVJh"
      },
      "execution_count": null,
      "outputs": []
    },
    {
      "cell_type": "code",
      "source": [
        "Type[:3]"
      ],
      "metadata": {
        "id": "lTtfBbHa3mf0"
      },
      "execution_count": null,
      "outputs": []
    },
    {
      "cell_type": "code",
      "source": [
        "lengths = [len(sublist) for sublist in reviews_ints]\n",
        "\n",
        "max_length = max(lengths)\n",
        "min_length=min(lengths)\n",
        "print(max_length)\n",
        "print(min_length)\n"
      ],
      "metadata": {
        "colab": {
          "base_uri": "https://localhost:8080/"
        },
        "id": "8xUyuyAU695h",
        "outputId": "5e99f2dc-1d0e-4650-85c9-654d28597be6"
      },
      "execution_count": 11,
      "outputs": [
        {
          "output_type": "stream",
          "name": "stdout",
          "text": [
            "364\n",
            "1\n"
          ]
        }
      ]
    },
    {
      "cell_type": "markdown",
      "source": [
        "### Padding sequences"
      ],
      "metadata": {
        "id": "W2zDKiHQ72lV"
      }
    },
    {
      "cell_type": "code",
      "source": [
        "def pad_features(reviews_ints, seq_length):\n",
        "\n",
        "\n",
        "    # getting the correct rows x cols shape\n",
        "    features = np.zeros((len(reviews_ints), seq_length), dtype=int)\n",
        "\n",
        "    # for each review, I grab that review and\n",
        "    for i, row in enumerate(reviews_ints):\n",
        "        features[i, -len(row):] = np.array(row)[:seq_length]\n",
        "\n",
        "    return features"
      ],
      "metadata": {
        "id": "B4Izb0-08RXS"
      },
      "execution_count": 12,
      "outputs": []
    },
    {
      "cell_type": "code",
      "source": [
        "seq_length = 364\n",
        "features = pad_features(reviews_ints, seq_length=seq_length)\n",
        "assert len(features)==len(reviews_ints), \"Your features should have as many rows as reviews.\"\n",
        "assert len(features[0])==seq_length, \"Each feature row should contain seq_length values.\"\n",
        "print(features[0])"
      ],
      "metadata": {
        "colab": {
          "base_uri": "https://localhost:8080/"
        },
        "id": "sjFcA_l2jXkp",
        "outputId": "dbf59edb-08fa-4403-8991-9000050743fc"
      },
      "execution_count": 13,
      "outputs": [
        {
          "output_type": "stream",
          "name": "stdout",
          "text": [
            "[  0   0   0   0   0   0   0   0   0   0   0   0   0   0   0   0   0   0\n",
            "   0   0   0   0   0   0   0   0   0   0   0   0   0   0   0   0   0   0\n",
            "   0   0   0   0   0   0   0   0   0   0   0   0   0   0   0   0   0   0\n",
            "   0   0   0   0   0   0   0   0   0   0   0   0   0   0   0   0   0   0\n",
            "   0   0   0   0   0   0   0   0   0   0   0   0   0   0   0   0   0   0\n",
            "   0   0   0   0   0   0   0   0   0   0   0   0   0   0   0   0   0   0\n",
            "   0   0   0   0   0   0   0   0   0   0   0   0   0   0   0   0   0   0\n",
            "   0   0   0   0   0   0   0   0   0   0   0   0   0   0   0   0   0   0\n",
            "   0   0   0   0   0   0   0   0   0   0   0   0   0   0   0   0   0   0\n",
            "   0   0   0   0   0   0   0   0   0   0   0   0   0   0   0   0   0   0\n",
            "   0   0   0   0   0   0   0   0   0   0   0   0   0   0   0   0   0   0\n",
            "   0   0   0   0   0   0   0   0   0   0   0   0   0   0   0   0   0   0\n",
            "   0   0   0   0   0   0   0   0   0   0   0   0   0   0   0   0   0   0\n",
            "   0   0   0   0   0   0   0   0   0   0   0   0   0   0   0   0   0   0\n",
            "   0   0   0   0   0   0   0   0   0   0   0   0   0   0   0   0   0   0\n",
            "   0   0   0   0   0   0   0   0   0   0   0   0   0   0   0   0   0   0\n",
            "   0   0   0   0   0   0   0   0   0   0   0   0   0   0   0   0   0   0\n",
            "   0   0   0   0   0   0   0   0   0   0   0   0   0   0   0   0   0   0\n",
            "   0   0   0   0   0   0   0   0   0   0   0   0   0   0   0   0   0   0\n",
            "   0   0   0   0   0   0   0   0   0   0   0   0   0   8   4   1   1   6\n",
            "   2 140   2   5]\n"
          ]
        }
      ]
    },
    {
      "cell_type": "code",
      "source": [
        "print(type(features))"
      ],
      "metadata": {
        "colab": {
          "base_uri": "https://localhost:8080/"
        },
        "id": "dUlfii4ij8H_",
        "outputId": "e13e80f8-749e-40f5-a1a7-c3ea2b278ed2"
      },
      "execution_count": null,
      "outputs": [
        {
          "output_type": "stream",
          "name": "stdout",
          "text": [
            "<class 'numpy.ndarray'>\n"
          ]
        }
      ]
    },
    {
      "cell_type": "code",
      "source": [
        "features.shape"
      ],
      "metadata": {
        "colab": {
          "base_uri": "https://localhost:8080/"
        },
        "id": "1oVbVAXqnmmu",
        "outputId": "5897aa51-5806-4485-91a5-9b310b82b11f"
      },
      "execution_count": null,
      "outputs": [
        {
          "output_type": "execute_result",
          "data": {
            "text/plain": [
              "(876232, 364)"
            ]
          },
          "metadata": {},
          "execution_count": 18
        }
      ]
    },
    {
      "cell_type": "markdown",
      "source": [
        "## Split Data"
      ],
      "metadata": {
        "id": "8jQ9xIHHUg_P"
      }
    },
    {
      "cell_type": "code",
      "source": [
        "split_frac = 0.8\n",
        "split_idx = int(len(features)*split_frac)\n",
        "train_x, remaining_x = features[:split_idx], features[split_idx:]\n",
        "train_y, remaining_y = labels[:split_idx], labels[split_idx:]\n",
        "\n",
        "test_idx = int(len(remaining_x)*0.1)\n",
        "val_x, test_x = remaining_x[:test_idx], remaining_x[test_idx:]\n",
        "val_y, test_y = remaining_y[:test_idx], remaining_y[test_idx:]\n",
        "\n",
        "train_x=train_x[:-85]\n",
        "train_y=train_y[:-85]\n",
        "val_x=val_x[:-24]\n",
        "val_y=val_y[:-24]\n",
        "test_x=test_x[:-23]\n",
        "test_y=test_y[:-23]\n",
        "\n",
        "\n",
        "print(\"\\t\\t\\tFeature Shapes:\")\n",
        "print(\"Train set: \\t\\t{}\".format(train_x.shape),\n",
        "      \"\\nValidation set: \\t{}\".format(val_x.shape),\n",
        "      \"\\nTest set: \\t\\t{}\".format(test_x.shape))"
      ],
      "metadata": {
        "colab": {
          "base_uri": "https://localhost:8080/"
        },
        "id": "65w1pMdUV0TN",
        "outputId": "a0e615d2-72ce-4288-bf6b-f379765f5e10"
      },
      "execution_count": 14,
      "outputs": [
        {
          "output_type": "stream",
          "name": "stdout",
          "text": [
            "\t\t\tFeature Shapes:\n",
            "Train set: \t\t(700900, 364) \n",
            "Validation set: \t(17500, 364) \n",
            "Test set: \t\t(157700, 364)\n"
          ]
        }
      ]
    },
    {
      "cell_type": "markdown",
      "source": [
        "## DataLoaders and Batching"
      ],
      "metadata": {
        "id": "218CbiiEYUSs"
      }
    },
    {
      "cell_type": "code",
      "source": [
        "train_data = TensorDataset(torch.from_numpy(train_x), torch.from_numpy(train_y))\n",
        "valid_data = TensorDataset(torch.from_numpy(val_x), torch.from_numpy(val_y))\n",
        "test_data = TensorDataset(torch.from_numpy(test_x), torch.from_numpy(test_y))\n",
        "\n",
        "batch_size=100\n",
        "train_loader = DataLoader(train_data, shuffle=True, batch_size=batch_size)\n",
        "valid_loader = DataLoader(valid_data, shuffle=True, batch_size=batch_size)\n",
        "test_loader = DataLoader(test_data, shuffle=True, batch_size=batch_size)"
      ],
      "metadata": {
        "id": "ansRoXESXc-G"
      },
      "execution_count": 15,
      "outputs": []
    },
    {
      "cell_type": "code",
      "source": [
        "Features,Labels=next(iter(train_loader))"
      ],
      "metadata": {
        "id": "QpDcWVbUYp7c"
      },
      "execution_count": null,
      "outputs": []
    },
    {
      "cell_type": "code",
      "source": [
        "Features.shape"
      ],
      "metadata": {
        "id": "CNBrVb4iYvhc"
      },
      "execution_count": null,
      "outputs": []
    },
    {
      "cell_type": "code",
      "source": [
        "Labels.shape"
      ],
      "metadata": {
        "id": "y1YQtJYCYzSS"
      },
      "execution_count": null,
      "outputs": []
    },
    {
      "cell_type": "code",
      "source": [
        "train_on_gpu=torch.cuda.is_available()\n",
        "\n",
        "if(train_on_gpu):\n",
        "    print('Training on GPU.')\n",
        "else:\n",
        "    print('No GPU available, training on CPU.')"
      ],
      "metadata": {
        "colab": {
          "base_uri": "https://localhost:8080/"
        },
        "id": "1DemerH9JuC5",
        "outputId": "62fb1083-4167-45e7-a24f-2f8fa8af3db7"
      },
      "execution_count": 16,
      "outputs": [
        {
          "output_type": "stream",
          "name": "stdout",
          "text": [
            "Training on GPU.\n"
          ]
        }
      ]
    },
    {
      "cell_type": "markdown",
      "source": [
        "## Defining Model"
      ],
      "metadata": {
        "id": "1S2zHYzUZNLC"
      }
    },
    {
      "cell_type": "code",
      "source": [
        "class malicious(nn.Module):\n",
        "  def __init__(self,vocab_size,output_size,embedding_dim,hidden_dim,n_layers,drop_prob=0.5):\n",
        "    super(malicious,self).__init__()\n",
        "    self.output_size=output_size\n",
        "    self.n_layers=n_layers\n",
        "    self.hidden_dim=hidden_dim\n",
        "    self.embedding=nn.Embedding(vocab_size,embedding_dim)\n",
        "    self.lstm=nn.LSTM(embedding_dim,hidden_dim,n_layers,dropout=drop_prob,batch_first=True)\n",
        "    self.dropout = nn.Dropout(0.3)\n",
        "    self.fc=nn.Linear(hidden_dim,output_size)\n",
        "\n",
        "  def forward(self,x,hidden):\n",
        "    batch_size=x.size(0)\n",
        "    x=x.long()\n",
        "    embeds=self.embedding(x)\n",
        "    lstm_out,hidden=self.lstm(embeds,hidden)\n",
        "    lstm_out=lstm_out[:, -1, :] # getting the last time step output\n",
        "    output=self.dropout(lstm_out)\n",
        "    output=F.sigmoid(self.fc(output))\n",
        "    return output,hidden\n",
        "\n",
        "  def init_hidden(self, batch_size):\n",
        "    weight = next(self.parameters()).data\n",
        "    if (train_on_gpu):\n",
        "            hidden = (weight.new(self.n_layers, batch_size, self.hidden_dim).zero_().cuda(),\n",
        "                  weight.new(self.n_layers, batch_size, self.hidden_dim).zero_().cuda())\n",
        "    else:\n",
        "            hidden = (weight.new(self.n_layers, batch_size, self.hidden_dim).zero_(),\n",
        "                      weight.new(self.n_layers, batch_size, self.hidden_dim).zero_())\n",
        "\n",
        "    return hidden"
      ],
      "metadata": {
        "id": "CzVh11S-ZQBN"
      },
      "execution_count": 17,
      "outputs": []
    },
    {
      "cell_type": "markdown",
      "source": [
        "## Defining Hyperparameters"
      ],
      "metadata": {
        "id": "FCOZiJ0vgOv5"
      }
    },
    {
      "cell_type": "code",
      "source": [
        "vocab_size=len(vocab_to_int)+1 # +1 for the 0 padding + our word tokens\n",
        "output_size=1\n",
        "embedding_dim=400\n",
        "hidden_dim=256\n",
        "n_layers=2\n",
        "\n",
        "model=malicious(vocab_size, output_size, embedding_dim, hidden_dim, n_layers)\n",
        "\n",
        "print(model)"
      ],
      "metadata": {
        "colab": {
          "base_uri": "https://localhost:8080/"
        },
        "id": "BhZWVN2IgT1K",
        "outputId": "70dc1b45-821d-4206-9987-80cc4b7aa75c"
      },
      "execution_count": 18,
      "outputs": [
        {
          "output_type": "stream",
          "name": "stdout",
          "text": [
            "malicious(\n",
            "  (embedding): Embedding(650291, 400)\n",
            "  (lstm): LSTM(400, 256, num_layers=2, batch_first=True, dropout=0.5)\n",
            "  (dropout): Dropout(p=0.3, inplace=False)\n",
            "  (fc): Linear(in_features=256, out_features=1, bias=True)\n",
            ")\n"
          ]
        }
      ]
    },
    {
      "cell_type": "markdown",
      "source": [
        "## Training"
      ],
      "metadata": {
        "id": "VmCOWQ3ilmzn"
      }
    },
    {
      "cell_type": "code",
      "source": [
        "criterion=nn.BCELoss()\n",
        "optimizer=optim.Adam(model.parameters(),lr=0.001)"
      ],
      "metadata": {
        "id": "Y6sg7hqmllFb"
      },
      "execution_count": 19,
      "outputs": []
    },
    {
      "cell_type": "code",
      "source": [
        "epochs=2\n",
        "counter=0\n",
        "print_every=1000\n",
        "clip=5\n",
        "total_train_losses,total_val_losses=[],[]\n",
        "best_val_loss = float('inf')\n",
        "patience = 7\n",
        "early_stopping_counter = 0\n",
        "if(train_on_gpu):\n",
        "    model.cuda()\n",
        "model.train()\n",
        "for e in range(epochs):\n",
        "  h=model.init_hidden(batch_size)\n",
        "  train_losses=[]\n",
        "  for Features,Labels in train_loader:\n",
        "    counter+=1\n",
        "    if(train_on_gpu):\n",
        "      Features,Labels=Features.cuda(),Labels.cuda()\n",
        "    h=tuple([each.data for each in h])\n",
        "    model.zero_grad()\n",
        "    output,h=model(Features,h)\n",
        "    loss=criterion(output.squeeze(),Labels.float())\n",
        "    loss.backward()\n",
        "    nn.utils.clip_grad_norm_(model.parameters(),clip) # prevent the exploding gradient problem\n",
        "    optimizer.step()\n",
        "    train_losses.append(loss.item())\n",
        "\n",
        "    if(counter % print_every==0):\n",
        "      with torch.no_grad():\n",
        "        val_h = model.init_hidden(batch_size)\n",
        "        val_losses = []\n",
        "        num_correct = 0\n",
        "        model.eval()\n",
        "        for Features,Labels in valid_loader:\n",
        "          val_h = tuple([each.data for each in val_h])\n",
        "          if(train_on_gpu):\n",
        "            Features,Labels=Features.cuda(),Labels.cuda()\n",
        "          output, val_h = model(Features,val_h)\n",
        "          val_loss = criterion(output.squeeze(), Labels.float())\n",
        "          val_losses.append(val_loss.item())\n",
        "          pred = torch.round(output.squeeze())\n",
        "          correct_tensor = pred.eq(Labels.float().view_as(pred))\n",
        "          correct = np.squeeze(correct_tensor.numpy()) if not train_on_gpu else np.squeeze(correct_tensor.cpu().numpy())\n",
        "          num_correct += np.sum(correct)\n",
        "        accuracy = num_correct/len(valid_loader.dataset)\n",
        "        val_loss_mean = np.mean(val_losses)\n",
        "        model.train()\n",
        "        total_train_losses.append(np.mean(train_losses))\n",
        "        total_val_losses.append(val_loss_mean)\n",
        "        print(\"Epoch: {}/{}...\".format(e+1, epochs),\n",
        "                  \"Step: {}...\".format(counter),\n",
        "                  \"Loss: {:.6f}...\".format(np.mean(train_losses)),\n",
        "                  \"Val Loss: {:.6f}\".format(val_loss_mean),\n",
        "              \"Validation accuracy: {:.3f}\".format(accuracy))\n",
        "        train_losses=[]\n",
        "        if val_loss_mean < best_val_loss:\n",
        "          best_val_loss = val_loss_mean\n",
        "          early_stopping_counter = 0\n",
        "        else:\n",
        "          early_stopping_counter += 1\n",
        "          if early_stopping_counter >= patience:\n",
        "            print(\"Early stopping triggered. No improvement in validation loss for {} epochs.\".format(epochs))\n",
        "            break\n",
        "  if early_stopping_counter >= patience:\n",
        "    break"
      ],
      "metadata": {
        "id": "1CDtycSBmJsO",
        "colab": {
          "base_uri": "https://localhost:8080/"
        },
        "outputId": "8e10bb49-e545-4212-bd9c-83211893df39"
      },
      "execution_count": null,
      "outputs": [
        {
          "output_type": "stream",
          "name": "stdout",
          "text": [
            "Epoch: 1/2... Step: 1000... Loss: 0.091450... Val Loss: 0.110310 Validation accuracy: 0.966\n",
            "Epoch: 1/2... Step: 2000... Loss: 0.047504... Val Loss: 0.089776 Validation accuracy: 0.970\n",
            "Epoch: 1/2... Step: 3000... Loss: 0.036676... Val Loss: 0.073423 Validation accuracy: 0.975\n",
            "Epoch: 1/2... Step: 4000... Loss: 0.033054... Val Loss: 0.063931 Validation accuracy: 0.979\n",
            "Epoch: 1/2... Step: 5000... Loss: 0.030845... Val Loss: 0.062472 Validation accuracy: 0.978\n",
            "Epoch: 1/2... Step: 6000... Loss: 0.029131... Val Loss: 0.061071 Validation accuracy: 0.979\n",
            "Epoch: 1/2... Step: 7000... Loss: 0.028797... Val Loss: 0.057863 Validation accuracy: 0.981\n",
            "Epoch: 2/2... Step: 8000... Loss: 0.017093... Val Loss: 0.060374 Validation accuracy: 0.981\n",
            "Epoch: 2/2... Step: 9000... Loss: 0.016493... Val Loss: 0.060974 Validation accuracy: 0.982\n",
            "Epoch: 2/2... Step: 10000... Loss: 0.016920... Val Loss: 0.057381 Validation accuracy: 0.982\n",
            "Epoch: 2/2... Step: 11000... Loss: 0.016819... Val Loss: 0.055551 Validation accuracy: 0.981\n",
            "Epoch: 2/2... Step: 12000... Loss: 0.015964... Val Loss: 0.053231 Validation accuracy: 0.983\n",
            "Epoch: 2/2... Step: 13000... Loss: 0.016652... Val Loss: 0.049487 Validation accuracy: 0.985\n",
            "Epoch: 2/2... Step: 14000... Loss: 0.014843... Val Loss: 0.048437 Validation accuracy: 0.983\n"
          ]
        }
      ]
    },
    {
      "cell_type": "code",
      "source": [
        "plt.plot(total_train_losses, label='Training loss')\n",
        "plt.plot(total_val_losses, label='Validation loss')\n",
        "plt.legend(frameon=False)"
      ],
      "metadata": {
        "colab": {
          "base_uri": "https://localhost:8080/",
          "height": 447
        },
        "id": "I5LG61Mf5buC",
        "outputId": "70eb4dc3-3925-4879-b7ef-48ed005ec1fd"
      },
      "execution_count": null,
      "outputs": [
        {
          "output_type": "execute_result",
          "data": {
            "text/plain": [
              "<matplotlib.legend.Legend at 0x7be32fd73160>"
            ]
          },
          "metadata": {},
          "execution_count": 26
        },
        {
          "output_type": "display_data",
          "data": {
            "text/plain": [
              "<Figure size 640x480 with 1 Axes>"
            ],
            "image/png": "[encoded data removed]"
          },
          "metadata": {}
        }
      ]
    },
    {
      "cell_type": "markdown",
      "source": [
        "## Checkpoint"
      ],
      "metadata": {
        "id": "GZT5L9chhfZ5"
      }
    },
    {
      "cell_type": "code",
      "source": [
        "checkpoint = {'vocab_size': vocab_size,\n",
        "              'output_size': model.output_size,\n",
        "              'embedding_dim': embedding_dim,\n",
        "              'hidden_dim':model.hidden_dim,\n",
        "              'n_layers':model.n_layers,\n",
        "              'batch_size':batch_size,\n",
        "              'vocab_to_int':vocab_to_int,\n",
        "              'state_dict': model.state_dict()}"
      ],
      "metadata": {
        "id": "OolGypE2F_py"
      },
      "execution_count": null,
      "outputs": []
    },
    {
      "cell_type": "code",
      "source": [
        "torch.save(checkpoint, '/content/drive/MyDrive/hacker.pth')"
      ],
      "metadata": {
        "id": "Kw0IAVzgIJm1"
      },
      "execution_count": null,
      "outputs": []
    },
    {
      "cell_type": "code",
      "source": [
        "checkpoint = torch.load('/content/drive/MyDrive/dangol.pth')\n",
        "vocab_size=checkpoint['vocab_size']\n",
        "output_size=checkpoint['output_size']\n",
        "embedding_dim=checkpoint['embedding_dim']\n",
        "hidden_dim=checkpoint['hidden_dim']\n",
        "n_layers=checkpoint['n_layers']\n",
        "batch_size=checkpoint['batch_size']\n",
        "vocab_to_int=checkpoint['vocab_to_int']\n",
        "state_dict=checkpoint['state_dict']"
      ],
      "metadata": {
        "id": "BEhcHfAMIWmP"
      },
      "execution_count": 20,
      "outputs": []
    },
    {
      "cell_type": "code",
      "source": [
        "model.load_state_dict(checkpoint['state_dict'])"
      ],
      "metadata": {
        "id": "dmsE8aWWLCvN",
        "colab": {
          "base_uri": "https://localhost:8080/"
        },
        "outputId": "9d183afc-fb61-4af7-9e83-292a1dc81825"
      },
      "execution_count": 21,
      "outputs": [
        {
          "output_type": "execute_result",
          "data": {
            "text/plain": [
              "<All keys matched successfully>"
            ]
          },
          "metadata": {},
          "execution_count": 21
        }
      ]
    },
    {
      "cell_type": "code",
      "source": [
        "model.state_dict()"
      ],
      "metadata": {
        "id": "B45YT4VGgLyO"
      },
      "execution_count": null,
      "outputs": []
    },
    {
      "cell_type": "markdown",
      "source": [
        "## Testing"
      ],
      "metadata": {
        "id": "cHdq8AmVRHyp"
      }
    },
    {
      "cell_type": "code",
      "source": [
        "with torch.no_grad():\n",
        "  model.cuda()\n",
        "  test_losses = []\n",
        "  num_correct = 0\n",
        "  h = model.init_hidden(100)\n",
        "  model.eval()\n",
        "  for Features, Labels in test_loader:\n",
        "      h = tuple([each.data for each in h])\n",
        "      if(train_on_gpu):\n",
        "          Features, Labels = Features.cuda(), Labels.cuda()\n",
        "      output,h = model(Features,h)\n",
        "      test_loss = criterion(output.squeeze(), Labels.float())\n",
        "      test_losses.append(test_loss.item())\n",
        "      pred = torch.round(output.squeeze())\n",
        "      correct_tensor = pred.eq(Labels.float().view_as(pred))\n",
        "      correct = np.squeeze(correct_tensor.numpy()) if not train_on_gpu else np.squeeze(correct_tensor.cpu().numpy())\n",
        "      num_correct += np.sum(correct)\n",
        "\n",
        "  print(\"Test loss: {:.3f}\".format(np.mean(test_losses)))\n",
        "\n",
        "  test_acc = num_correct/len(test_loader.dataset)\n",
        "  print(\"Test accuracy: {:.3f}\".format(test_acc))"
      ],
      "metadata": {
        "colab": {
          "base_uri": "https://localhost:8080/"
        },
        "id": "-7vQ0gigRKFd",
        "outputId": "3785c733-4239-4be3-de6e-8b92a9b69e57"
      },
      "execution_count": null,
      "outputs": [
        {
          "output_type": "stream",
          "name": "stdout",
          "text": [
            "Test loss: 0.048\n",
            "Test accuracy: 0.984\n"
          ]
        }
      ]
    },
    {
      "cell_type": "code",
      "source": [
        "from sklearn.metrics import confusion_matrix\n",
        "import seaborn as sns\n",
        "import matplotlib.pyplot as plt\n",
        "\n",
        "\n",
        "all_preds = []\n",
        "all_labels = []\n",
        "\n",
        "with torch.no_grad():\n",
        "    model.cuda()\n",
        "    test_losses = []\n",
        "    num_correct = 0\n",
        "    h = model.init_hidden(100)\n",
        "    model.eval()\n",
        "    for Features, Labels in test_loader:\n",
        "        h = tuple([each.data for each in h])\n",
        "        if train_on_gpu:\n",
        "            Features, Labels = Features.cuda(), Labels.cuda()\n",
        "        output, h = model(Features, h)\n",
        "        test_loss = criterion(output.squeeze(), Labels.float())\n",
        "        test_losses.append(test_loss.item())\n",
        "        pred = torch.round(output.squeeze()).cpu().numpy()\n",
        "        labels = Labels.cpu().numpy()\n",
        "        all_preds.extend(pred)\n",
        "        all_labels.extend(labels)\n",
        "        correct_tensor = pred == labels\n",
        "        num_correct += correct_tensor.sum()\n",
        "\n",
        "    print(\"Test loss: {:.3f}\".format(np.mean(test_losses)))\n",
        "\n",
        "    test_acc = num_correct / len(test_loader.dataset)\n",
        "    print(\"Test accuracy: {:.3f}\".format(test_acc))\n",
        "\n",
        "# Calculate confusion matrix\n",
        "conf_matrix = confusion_matrix(all_labels, all_preds)\n",
        "\n",
        "# Plot confusion matrix\n",
        "plt.figure(figsize=(8, 6))\n",
        "sns.heatmap(conf_matrix, annot=True, fmt='d', cmap='Blues', xticklabels=['Predicted Negative', 'Predicted Positive'], yticklabels=['Actual Negative', 'Actual Positive'])\n",
        "plt.xlabel('Predicted Label')\n",
        "plt.ylabel('True Label')\n",
        "plt.title('Confusion Matrix')\n",
        "plt.show()\n"
      ],
      "metadata": {
        "colab": {
          "base_uri": "https://localhost:8080/",
          "height": 599
        },
        "id": "9n866l1yoNao",
        "outputId": "18f9a685-9745-4322-cf16-99042b12c926"
      },
      "execution_count": 22,
      "outputs": [
        {
          "output_type": "stream",
          "name": "stdout",
          "text": [
            "Test loss: 0.055\n",
            "Test accuracy: 0.983\n"
          ]
        },
        {
          "output_type": "display_data",
          "data": {
            "text/plain": [
              "<Figure size 800x600 with 2 Axes>"
            ],
            "image/png": "[encoded data removed]"
          },
          "metadata": {}
        }
      ]
    },
    {
      "cell_type": "markdown",
      "source": [
        "## Inference\n"
      ],
      "metadata": {
        "id": "wrVXecyzhGcT"
      }
    },
    {
      "cell_type": "code",
      "source": [
        "def add_spaces_around_punctuation(input_list):\n",
        "    translation_table = str.maketrans({key: f' {key} ' for key in string.punctuation})\n",
        "    result_list = [s.translate(translation_table) for s in input_list]\n",
        "    result_list = [s.split() for s in result_list]\n",
        "\n",
        "    return result_list\n",
        "\n",
        "def pad_features(reviews_ints, seq_length):\n",
        "    features = np.zeros((len(reviews_ints), seq_length), dtype=int)\n",
        "    for i, row in enumerate(reviews_ints):\n",
        "        features[i, -len(row):] = np.array(row)[:seq_length]\n",
        "    return features\n",
        "\n",
        "def predict(feature_tensor):\n",
        "  with torch.no_grad():\n",
        "    model.cuda()\n",
        "    h = model.init_hidden(feature_tensor.size(0))\n",
        "    model.eval()\n",
        "    h = tuple([each.data for each in h])\n",
        "    if(train_on_gpu):\n",
        "      feature_tensor= feature_tensor.cuda()\n",
        "    output,h = model(feature_tensor,h)\n",
        "    pred = torch.round(output.squeeze())\n",
        "    print('Prediction value, pre-rounding: {:.6f}'.format(output.item()))\n",
        "    if(pred.item()==0):\n",
        "      print(\"Not Malicious\")\n",
        "    else:\n",
        "      print(\"Malicious\")\n",
        "\n",
        "url=[input(\"Enter Url: \")]\n",
        "output_list = add_spaces_around_punctuation(url)\n",
        "\n",
        "reviews_ints = []\n",
        "for review in output_list:\n",
        "    reviews_ints.append([vocab_to_int.get(word, 0) for word in review])\n",
        "\n",
        "seq_length = 326\n",
        "features = pad_features(reviews_ints, seq_length=seq_length)\n",
        "assert len(features)==len(reviews_ints), \"Your features should have as many rows as reviews.\"\n",
        "assert len(features[0])==seq_length, \"Each feature row should contain seq_length values.\"\n",
        "feature_tensor=torch.from_numpy(features)\n",
        "predict(feature_tensor)"
      ],
      "metadata": {
        "colab": {
          "base_uri": "https://localhost:8080/"
        },
        "id": "DSrFklfTosG0",
        "outputId": "a4cb5b7e-d29e-4b35-b073-e518a8024399"
      },
      "execution_count": null,
      "outputs": [
        {
          "output_type": "stream",
          "name": "stdout",
          "text": [
            "Enter Url: www.facebook.com\n",
            "Prediction value, pre-rounding: 0.173392\n",
            "Not Malicious\n"
          ]
        }
      ]
    }
  ],
  "metadata": {
    "colab": {
      "provenance": [],
      "gpuType": "T4",
      "authorship_tag": "ABX9TyP0g3PjoAoti5dWw0YyT5So",
      "include_colab_link": true
    },
    "kernelspec": {
      "display_name": "Python 3",
      "name": "python3"
    },
    "language_info": {
      "name": "python"
    },
    "accelerator": "GPU"
  },
  "nbformat": 4,
  "nbformat_minor": 0
}